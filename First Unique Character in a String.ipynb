{
 "cells": [
  {
   "cell_type": "markdown",
   "id": "3257c679",
   "metadata": {},
   "source": [
    "First Unique Character in a String\n",
    "\n",
    "Given a string s, find the first non-repeating character in it and return its index. If it does not exist, return -1.\n",
    "\n",
    "Example 1: Input: s = \"leetcode\" Output: 0\n",
    "\n",
    "Example 2: Input: s = \"loveleetcode\" Output: 2\n",
    "\n",
    "Example 3: Input: s = \"aabb\" Output: -1\n",
    "\n",
    "Constraints: a. 1 <= s.length <= 10^5 b. s consists of only lowercase English letters.\n",
    "\n",
    "class Solution(object):"
   ]
  },
  {
   "cell_type": "code",
   "execution_count": 1,
   "id": "2ecbd6c9",
   "metadata": {},
   "outputs": [
    {
     "name": "stdout",
     "output_type": "stream",
     "text": [
      "0\n",
      "2\n",
      "-1\n"
     ]
    }
   ],
   "source": [
    "class Solution(object):\n",
    "    def FirstUniqChar(self, s):\n",
    "        \"\"\"\n",
    "        :type s: str\n",
    "        :rtype: int\n",
    "        \"\"\"\n",
    "        frequency = {}\n",
    "        for i in s:\n",
    "            if i not in frequency:\n",
    "                frequency[i] = 1\n",
    "            else:\n",
    "                frequency[i] +=1\n",
    "        for i in range(len(s)):\n",
    "            if frequency[s[i]] == 1:\n",
    "                return i\n",
    "        return -1\n",
    "obj = Solution()\n",
    "print(obj.FirstUniqChar(\"leetcode\"))\n",
    "print(obj.FirstUniqChar(\"loveleetcode\"))                   \n",
    "print(obj.FirstUniqChar(\"aabb\"))"
   ]
  },
  {
   "cell_type": "code",
   "execution_count": null,
   "id": "c10d3060",
   "metadata": {},
   "outputs": [],
   "source": []
  }
 ],
 "metadata": {
  "kernelspec": {
   "display_name": "Python 3 (ipykernel)",
   "language": "python",
   "name": "python3"
  },
  "language_info": {
   "codemirror_mode": {
    "name": "ipython",
    "version": 3
   },
   "file_extension": ".py",
   "mimetype": "text/x-python",
   "name": "python",
   "nbconvert_exporter": "python",
   "pygments_lexer": "ipython3",
   "version": "3.9.13"
  }
 },
 "nbformat": 4,
 "nbformat_minor": 5
}
